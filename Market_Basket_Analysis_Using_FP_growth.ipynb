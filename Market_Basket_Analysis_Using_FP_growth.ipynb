{
  "nbformat": 4,
  "nbformat_minor": 0,
  "metadata": {
    "colab": {
      "name": "Copy of Market Basket Analysis Using FP-growth.ipynb",
      "provenance": [],
      "collapsed_sections": [],
      "authorship_tag": "ABX9TyOpn1veWEn9zKtFxo1+D9kl",
      "include_colab_link": true
    },
    "kernelspec": {
      "name": "python3",
      "display_name": "Python 3"
    },
    "language_info": {
      "name": "python"
    },
    "accelerator": "GPU"
  },
  "cells": [
    {
      "cell_type": "markdown",
      "metadata": {
        "id": "view-in-github",
        "colab_type": "text"
      },
      "source": [
        "<a href=\"https://colab.research.google.com/github/GaneshBade/Algorithmic-Trading-Python-for-finance/blob/main/Market_Basket_Analysis_Using_FP_growth.ipynb\" target=\"_parent\"><img src=\"https://colab.research.google.com/assets/colab-badge.svg\" alt=\"Open In Colab\"/></a>"
      ]
    },
    {
      "cell_type": "markdown",
      "metadata": {
        "id": "0ztr7QVIN1mz"
      },
      "source": [
        "# Market Basket Analysis using Instacart Grocery Dataset"
      ]
    },
    {
      "cell_type": "markdown",
      "metadata": {
        "id": "vGMIvPKhVEzK"
      },
      "source": [
        "A key technique to uncover associations between different items is known as market basket analysis."
      ]
    },
    {
      "cell_type": "markdown",
      "metadata": {
        "id": "FVLIOmftOpuL"
      },
      "source": [
        "# Setup Pyspark in Colab"
      ]
    },
    {
      "cell_type": "code",
      "metadata": {
        "id": "YtEEfnSGPLjk",
        "colab": {
          "base_uri": "https://localhost:8080/"
        },
        "outputId": "576e9465-d570-4e40-8b49-dc5b63fe4992"
      },
      "source": [
        "!pip install pyspark"
      ],
      "execution_count": 1,
      "outputs": [
        {
          "output_type": "stream",
          "text": [
            "Collecting pyspark\n",
            "  Downloading pyspark-3.1.2.tar.gz (212.4 MB)\n",
            "\u001b[K     |████████████████████████████████| 212.4 MB 71 kB/s \n",
            "\u001b[?25hCollecting py4j==0.10.9\n",
            "  Downloading py4j-0.10.9-py2.py3-none-any.whl (198 kB)\n",
            "\u001b[K     |████████████████████████████████| 198 kB 40.4 MB/s \n",
            "\u001b[?25hBuilding wheels for collected packages: pyspark\n",
            "  Building wheel for pyspark (setup.py) ... \u001b[?25l\u001b[?25hdone\n",
            "  Created wheel for pyspark: filename=pyspark-3.1.2-py2.py3-none-any.whl size=212880768 sha256=c85c5049f9951b872432eb8494949c9a9f130546c4e84056902bcd10e3022219\n",
            "  Stored in directory: /root/.cache/pip/wheels/a5/0a/c1/9561f6fecb759579a7d863dcd846daaa95f598744e71b02c77\n",
            "Successfully built pyspark\n",
            "Installing collected packages: py4j, pyspark\n",
            "Successfully installed py4j-0.10.9 pyspark-3.1.2\n"
          ],
          "name": "stdout"
        }
      ]
    },
    {
      "cell_type": "code",
      "metadata": {
        "id": "ThjMkscGSoKN"
      },
      "source": [
        "from pyspark.sql import SparkSession\n",
        "spark = SparkSession.builder.master(\"local[*]\").getOrCreate()"
      ],
      "execution_count": 2,
      "outputs": []
    },
    {
      "cell_type": "markdown",
      "metadata": {
        "id": "MCj5CrZVS88e"
      },
      "source": [
        "# Mount Google Drive locally"
      ]
    },
    {
      "cell_type": "code",
      "metadata": {
        "id": "Jk2qDsfhTB3I",
        "colab": {
          "base_uri": "https://localhost:8080/"
        },
        "outputId": "dc2e2f38-9b31-4ffc-c30a-4e59ad03bded"
      },
      "source": [
        "from google.colab import drive\n",
        "drive.mount('/content/drive')"
      ],
      "execution_count": 3,
      "outputs": [
        {
          "output_type": "stream",
          "text": [
            "Mounted at /content/drive\n"
          ],
          "name": "stdout"
        }
      ]
    },
    {
      "cell_type": "code",
      "metadata": {
        "id": "kE3HA9FCoj8l",
        "colab": {
          "base_uri": "https://localhost:8080/"
        },
        "outputId": "5c662228-497b-46d2-949a-09f0037f529c"
      },
      "source": [
        "%cd /content/drive\n",
        "!ls -lrt\n",
        "%cd MyDrive\n",
        "!ls -lrt\n",
        "%cd Instacart\\ Market\\ Basket\\ Analysis\n",
        "!ls -lrta\n",
        "!pwd"
      ],
      "execution_count": 4,
      "outputs": [
        {
          "output_type": "stream",
          "text": [
            "/content/drive\n",
            "total 8\n",
            "drwx------ 2 root root 4096 Aug 15 06:52 Othercomputers\n",
            "drwx------ 4 root root 4096 Aug 15 06:52 MyDrive\n",
            "/content/drive/MyDrive\n",
            "total 8\n",
            "drwx------ 2 root root 4096 Jun 21 13:46 'Colab Notebooks'\n",
            "drwx------ 2 root root 4096 Aug 14 14:47 'Instacart Market Basket Analysis'\n",
            "/content/drive/MyDrive/Instacart Market Basket Analysis\n",
            "total 696652\n",
            "-rw------- 1 root root       270 May  2  2017 departments.csv\n",
            "-rw------- 1 root root      2603 May  2  2017 aisles.csv\n",
            "-rw------- 1 root root   2166953 May  2  2017 products.csv\n",
            "-rw------- 1 root root  24680147 May  2  2017 order_products__train.csv\n",
            "-rw------- 1 root root 108968645 May  2  2017 orders.csv\n",
            "-rw------- 1 root root 577550706 May  2  2017 order_products__prior.csv\n",
            "/content/drive/MyDrive/Instacart Market Basket Analysis\n"
          ],
          "name": "stdout"
        }
      ]
    },
    {
      "cell_type": "code",
      "metadata": {
        "id": "2RmQ4r2vKHI3"
      },
      "source": [
        "departments_path = '/content/drive/MyDrive/Instacart Market Basket Analysis/departments.csv'\n",
        "aisles_path = '/content/drive/MyDrive/Instacart Market Basket Analysis/aisles.csv'\n",
        "products_path = '/content/drive/MyDrive/Instacart Market Basket Analysis/products.csv'\n",
        "order_products_train_path = '/content/drive/MyDrive/Instacart Market Basket Analysis/order_products__train.csv'\n",
        "orders_path = '/content/drive/MyDrive/Instacart Market Basket Analysis/orders.csv'\n",
        "order_products_prior_path = '/content/drive/MyDrive/Instacart Market Basket Analysis/order_products__prior.csv'"
      ],
      "execution_count": 5,
      "outputs": []
    },
    {
      "cell_type": "code",
      "metadata": {
        "id": "1cVaa5PkLQem"
      },
      "source": [
        "aisles = spark.read.csv(path=aisles_path, header=True, inferSchema=True)\n",
        "departments = spark.read.csv(path=departments_path, header=True, inferSchema=True)\n",
        "products = spark.read.csv(path=products_path, header=True, inferSchema=True)\n",
        "order_products_train = spark.read.csv(path=order_products_train_path, header=True, inferSchema=True)\n",
        "orders = spark.read.csv(path=orders_path, header=True, inferSchema=True)\n",
        "order_products_prior = spark.read.csv(path=order_products_prior_path, header=True, inferSchema=True)\n"
      ],
      "execution_count": 6,
      "outputs": []
    },
    {
      "cell_type": "code",
      "metadata": {
        "id": "Tkbmzf1xNBcP",
        "colab": {
          "base_uri": "https://localhost:8080/"
        },
        "outputId": "571d9054-c58d-4059-9807-a9e7702fb6be"
      },
      "source": [
        "aisles.printSchema()\n",
        "aisles.show(truncate=False, n=5)\n",
        "departments.printSchema()\n",
        "departments.show(truncate=False, n=5)\n",
        "products.printSchema()\n",
        "products.show(truncate=False, n=5)\n",
        "orders.printSchema()\n",
        "orders.show(truncate=False, n=5)\n",
        "order_products_train.printSchema()\n",
        "order_products_train.show(truncate=False, n=5)\n",
        "order_products_prior.printSchema()\n",
        "order_products_prior.show(truncate=True, n=5)"
      ],
      "execution_count": 7,
      "outputs": [
        {
          "output_type": "stream",
          "text": [
            "root\n",
            " |-- aisle_id: integer (nullable = true)\n",
            " |-- aisle: string (nullable = true)\n",
            "\n",
            "+--------+--------------------------+\n",
            "|aisle_id|aisle                     |\n",
            "+--------+--------------------------+\n",
            "|1       |prepared soups salads     |\n",
            "|2       |specialty cheeses         |\n",
            "|3       |energy granola bars       |\n",
            "|4       |instant foods             |\n",
            "|5       |marinades meat preparation|\n",
            "+--------+--------------------------+\n",
            "only showing top 5 rows\n",
            "\n",
            "root\n",
            " |-- department_id: integer (nullable = true)\n",
            " |-- department: string (nullable = true)\n",
            "\n",
            "+-------------+----------+\n",
            "|department_id|department|\n",
            "+-------------+----------+\n",
            "|1            |frozen    |\n",
            "|2            |other     |\n",
            "|3            |bakery    |\n",
            "|4            |produce   |\n",
            "|5            |alcohol   |\n",
            "+-------------+----------+\n",
            "only showing top 5 rows\n",
            "\n",
            "root\n",
            " |-- product_id: integer (nullable = true)\n",
            " |-- product_name: string (nullable = true)\n",
            " |-- aisle_id: string (nullable = true)\n",
            " |-- department_id: string (nullable = true)\n",
            "\n",
            "+----------+-----------------------------------------------------------------+--------+-------------+\n",
            "|product_id|product_name                                                     |aisle_id|department_id|\n",
            "+----------+-----------------------------------------------------------------+--------+-------------+\n",
            "|1         |Chocolate Sandwich Cookies                                       |61      |19           |\n",
            "|2         |All-Seasons Salt                                                 |104     |13           |\n",
            "|3         |Robust Golden Unsweetened Oolong Tea                             |94      |7            |\n",
            "|4         |Smart Ones Classic Favorites Mini Rigatoni With Vodka Cream Sauce|38      |1            |\n",
            "|5         |Green Chile Anytime Sauce                                        |5       |13           |\n",
            "+----------+-----------------------------------------------------------------+--------+-------------+\n",
            "only showing top 5 rows\n",
            "\n",
            "root\n",
            " |-- order_id: integer (nullable = true)\n",
            " |-- user_id: integer (nullable = true)\n",
            " |-- eval_set: string (nullable = true)\n",
            " |-- order_number: integer (nullable = true)\n",
            " |-- order_dow: integer (nullable = true)\n",
            " |-- order_hour_of_day: integer (nullable = true)\n",
            " |-- days_since_prior_order: double (nullable = true)\n",
            "\n",
            "+--------+-------+--------+------------+---------+-----------------+----------------------+\n",
            "|order_id|user_id|eval_set|order_number|order_dow|order_hour_of_day|days_since_prior_order|\n",
            "+--------+-------+--------+------------+---------+-----------------+----------------------+\n",
            "|2539329 |1      |prior   |1           |2        |8                |null                  |\n",
            "|2398795 |1      |prior   |2           |3        |7                |15.0                  |\n",
            "|473747  |1      |prior   |3           |3        |12               |21.0                  |\n",
            "|2254736 |1      |prior   |4           |4        |7                |29.0                  |\n",
            "|431534  |1      |prior   |5           |4        |15               |28.0                  |\n",
            "+--------+-------+--------+------------+---------+-----------------+----------------------+\n",
            "only showing top 5 rows\n",
            "\n",
            "root\n",
            " |-- order_id: integer (nullable = true)\n",
            " |-- product_id: integer (nullable = true)\n",
            " |-- add_to_cart_order: integer (nullable = true)\n",
            " |-- reordered: integer (nullable = true)\n",
            "\n",
            "+--------+----------+-----------------+---------+\n",
            "|order_id|product_id|add_to_cart_order|reordered|\n",
            "+--------+----------+-----------------+---------+\n",
            "|1       |49302     |1                |1        |\n",
            "|1       |11109     |2                |1        |\n",
            "|1       |10246     |3                |0        |\n",
            "|1       |49683     |4                |0        |\n",
            "|1       |43633     |5                |1        |\n",
            "+--------+----------+-----------------+---------+\n",
            "only showing top 5 rows\n",
            "\n",
            "root\n",
            " |-- order_id: integer (nullable = true)\n",
            " |-- product_id: integer (nullable = true)\n",
            " |-- add_to_cart_order: integer (nullable = true)\n",
            " |-- reordered: integer (nullable = true)\n",
            "\n",
            "+--------+----------+-----------------+---------+\n",
            "|order_id|product_id|add_to_cart_order|reordered|\n",
            "+--------+----------+-----------------+---------+\n",
            "|       2|     33120|                1|        1|\n",
            "|       2|     28985|                2|        1|\n",
            "|       2|      9327|                3|        0|\n",
            "|       2|     45918|                4|        1|\n",
            "|       2|     30035|                5|        0|\n",
            "+--------+----------+-----------------+---------+\n",
            "only showing top 5 rows\n",
            "\n"
          ],
          "name": "stdout"
        }
      ]
    },
    {
      "cell_type": "code",
      "metadata": {
        "id": "A3rejuSYNtJZ"
      },
      "source": [
        "# Create Temporary tables\n",
        "aisles.createOrReplaceTempView(\"aisles\")\n",
        "departments.createOrReplaceTempView(\"departments\")\n",
        "order_products_prior.createOrReplaceTempView(\"order_products_prior\")\n",
        "order_products_train.createOrReplaceTempView(\"order_products_train\")\n",
        "orders.createOrReplaceTempView(\"orders\")\n",
        "products.createOrReplaceTempView(\"products\")"
      ],
      "execution_count": 8,
      "outputs": []
    },
    {
      "cell_type": "code",
      "metadata": {
        "id": "F-Dt0NM8kjxB"
      },
      "source": [
        "order_products_prior.createOrReplaceTempView(\"order_products_prior\")"
      ],
      "execution_count": 9,
      "outputs": []
    },
    {
      "cell_type": "code",
      "metadata": {
        "id": "VjL3KozRQmaK"
      },
      "source": [
        "# print(f\"aisles shape: {aisles.toPandas().shape}\")\n",
        "# print(f\"departments shape: {departments.toPandas().shape}\")\n",
        "# # print(f\"order_products_prior shape: {order_products_prior.toPandas().shape}\")\n",
        "# print(f\"order_products_train shape: {order_products_train.toPandas().shape}\")\n",
        "# print(f\"orders shape: {orders.toPandas().shape}\")\n",
        "# print(f\"products shape: {products.toPandas().shape}\")"
      ],
      "execution_count": 10,
      "outputs": []
    },
    {
      "cell_type": "code",
      "metadata": {
        "colab": {
          "base_uri": "https://localhost:8080/"
        },
        "id": "dyqI3jmPY1-g",
        "outputId": "c708b7cf-f7dd-4d4f-9b1b-2bbc4da8ee37"
      },
      "source": [
        "orders_df = orders.toPandas()\n",
        "orders_df['order_dow'].value_counts()"
      ],
      "execution_count": 11,
      "outputs": [
        {
          "output_type": "execute_result",
          "data": {
            "text/plain": [
              "0    600905\n",
              "1    587478\n",
              "2    467260\n",
              "5    453368\n",
              "6    448761\n",
              "3    436972\n",
              "4    426339\n",
              "Name: order_dow, dtype: int64"
            ]
          },
          "metadata": {
            "tags": []
          },
          "execution_count": 11
        }
      ]
    },
    {
      "cell_type": "code",
      "metadata": {
        "colab": {
          "base_uri": "https://localhost:8080/",
          "height": 204
        },
        "id": "7fTYucHcugWW",
        "outputId": "ee6c83db-76a3-4e35-a017-b761bb8736fb"
      },
      "source": [
        "orders_df['day_of_week']=orders_df['order_dow'].map({0:'Sunday', 1:'Monday', 2:'Tuesday', 3:'Wensday', 4:'Thursday', 5:'Friday', 6:'Saturday'})\n",
        "orders_df.head()"
      ],
      "execution_count": 12,
      "outputs": [
        {
          "output_type": "execute_result",
          "data": {
            "text/html": [
              "<div>\n",
              "<style scoped>\n",
              "    .dataframe tbody tr th:only-of-type {\n",
              "        vertical-align: middle;\n",
              "    }\n",
              "\n",
              "    .dataframe tbody tr th {\n",
              "        vertical-align: top;\n",
              "    }\n",
              "\n",
              "    .dataframe thead th {\n",
              "        text-align: right;\n",
              "    }\n",
              "</style>\n",
              "<table border=\"1\" class=\"dataframe\">\n",
              "  <thead>\n",
              "    <tr style=\"text-align: right;\">\n",
              "      <th></th>\n",
              "      <th>order_id</th>\n",
              "      <th>user_id</th>\n",
              "      <th>eval_set</th>\n",
              "      <th>order_number</th>\n",
              "      <th>order_dow</th>\n",
              "      <th>order_hour_of_day</th>\n",
              "      <th>days_since_prior_order</th>\n",
              "      <th>day_of_week</th>\n",
              "    </tr>\n",
              "  </thead>\n",
              "  <tbody>\n",
              "    <tr>\n",
              "      <th>0</th>\n",
              "      <td>2539329</td>\n",
              "      <td>1</td>\n",
              "      <td>prior</td>\n",
              "      <td>1</td>\n",
              "      <td>2</td>\n",
              "      <td>8</td>\n",
              "      <td>NaN</td>\n",
              "      <td>Tuesday</td>\n",
              "    </tr>\n",
              "    <tr>\n",
              "      <th>1</th>\n",
              "      <td>2398795</td>\n",
              "      <td>1</td>\n",
              "      <td>prior</td>\n",
              "      <td>2</td>\n",
              "      <td>3</td>\n",
              "      <td>7</td>\n",
              "      <td>15.0</td>\n",
              "      <td>Wensday</td>\n",
              "    </tr>\n",
              "    <tr>\n",
              "      <th>2</th>\n",
              "      <td>473747</td>\n",
              "      <td>1</td>\n",
              "      <td>prior</td>\n",
              "      <td>3</td>\n",
              "      <td>3</td>\n",
              "      <td>12</td>\n",
              "      <td>21.0</td>\n",
              "      <td>Wensday</td>\n",
              "    </tr>\n",
              "    <tr>\n",
              "      <th>3</th>\n",
              "      <td>2254736</td>\n",
              "      <td>1</td>\n",
              "      <td>prior</td>\n",
              "      <td>4</td>\n",
              "      <td>4</td>\n",
              "      <td>7</td>\n",
              "      <td>29.0</td>\n",
              "      <td>Thursday</td>\n",
              "    </tr>\n",
              "    <tr>\n",
              "      <th>4</th>\n",
              "      <td>431534</td>\n",
              "      <td>1</td>\n",
              "      <td>prior</td>\n",
              "      <td>5</td>\n",
              "      <td>4</td>\n",
              "      <td>15</td>\n",
              "      <td>28.0</td>\n",
              "      <td>Thursday</td>\n",
              "    </tr>\n",
              "  </tbody>\n",
              "</table>\n",
              "</div>"
            ],
            "text/plain": [
              "   order_id  user_id  ... days_since_prior_order  day_of_week\n",
              "0   2539329        1  ...                    NaN      Tuesday\n",
              "1   2398795        1  ...                   15.0      Wensday\n",
              "2    473747        1  ...                   21.0      Wensday\n",
              "3   2254736        1  ...                   29.0     Thursday\n",
              "4    431534        1  ...                   28.0     Thursday\n",
              "\n",
              "[5 rows x 8 columns]"
            ]
          },
          "metadata": {
            "tags": []
          },
          "execution_count": 12
        }
      ]
    },
    {
      "cell_type": "markdown",
      "metadata": {
        "id": "t9ZaqA-NU_wu"
      },
      "source": [
        "Lets explore orders dataframe"
      ]
    },
    {
      "cell_type": "code",
      "metadata": {
        "id": "QbWIqJ0ZQ0sx"
      },
      "source": [
        "query = '''\n",
        "select count(order_id) as total_orders,\n",
        "(case\n",
        "    when order_dow = '0' then 'Sunday'\n",
        "    when order_dow = '1' then 'Monday'\n",
        "    when order_dow = '2' then 'Tuesday'\n",
        "    when order_dow = '3' then 'Wendsday'\n",
        "    when order_dow = '4' then 'Thursday'\n",
        "    when order_dow = '5' then 'Friday'\n",
        "    when order_dow = '6' then 'Saturday'\n",
        "end) as day_of_week\n",
        "from orders\n",
        "group by day_of_week\n",
        "order by total_orders desc\n",
        ";\n",
        "'''\n",
        "df = spark.sql(query).toPandas()"
      ],
      "execution_count": 13,
      "outputs": []
    },
    {
      "cell_type": "code",
      "metadata": {
        "colab": {
          "base_uri": "https://localhost:8080/",
          "height": 335
        },
        "id": "mZ3GoZXFX8r4",
        "outputId": "80ae5199-6224-4352-afac-d323a549cdc6"
      },
      "source": [
        "import matplotlib.pyplot as plt\n",
        "import seaborn as sns\n",
        "sns.set_style('darkgrid')\n",
        "plt.figure(figsize=(15, 5))\n",
        "ax = sns.barplot(x='day_of_week', y='total_orders', data=df)"
      ],
      "execution_count": 14,
      "outputs": [
        {
          "output_type": "display_data",
          "data": {
            "image/png": "[encoded data removed]",
            "text/plain": [
              "<Figure size 1080x360 with 1 Axes>"
            ]
          },
          "metadata": {
            "tags": []
          }
        }
      ]
    },
    {
      "cell_type": "markdown",
      "metadata": {
        "id": "gxreeLEsKzF_"
      },
      "source": [
        "Above barplot shows that Sunday and Monday are very busy day as compare to rest of week days"
      ]
    },
    {
      "cell_type": "code",
      "metadata": {
        "id": "47HFK9jfJCot"
      },
      "source": [
        "query = '''\n",
        "select count(order_id) as total_orders, order_hour_of_day as hour_of_day\n",
        "from orders\n",
        "group by 2\n",
        "order by 2 asc\n",
        ";\n",
        "'''\n",
        "df = spark.sql(query).toPandas()"
      ],
      "execution_count": 15,
      "outputs": []
    },
    {
      "cell_type": "code",
      "metadata": {
        "colab": {
          "base_uri": "https://localhost:8080/",
          "height": 336
        },
        "id": "NPSRXyI8MfhH",
        "outputId": "e8cfeec9-5bf9-4236-ab1d-fba00463b9fe"
      },
      "source": [
        "plt.figure(figsize=(15, 5))\n",
        "ax = sns.lineplot(x='hour_of_day', y='total_orders', data=df, markers=True)\n",
        "plt.vlines(x=10, ymin=0, ymax=df['total_orders'].max())\n",
        "plt.vlines(x=15, ymin=0, ymax=df[df['hour_of_day'] == 15])\n",
        "plt.show()"
      ],
      "execution_count": 16,
      "outputs": [
        {
          "output_type": "display_data",
          "data": {
            "image/png": "[encoded data removed]",
            "text/plain": [
              "<Figure size 1080x360 with 1 Axes>"
            ]
          },
          "metadata": {
            "tags": []
          }
        }
      ]
    },
    {
      "cell_type": "markdown",
      "metadata": {
        "id": "eBa6Ilw7D16Y"
      },
      "source": [
        "Above graph shows pick hours or rush hours are in between 10.00 AM - 15.00 PM "
      ]
    },
    {
      "cell_type": "code",
      "metadata": {
        "id": "fZcpCkccKzwN"
      },
      "source": [
        "query='''\n",
        "select d.department, count(1) as counter\n",
        "from departments as d, products as p\n",
        "where d.department_id=p.department_id\n",
        "group by d.department\n",
        "order by counter desc\n",
        ";\n",
        "'''\n",
        "df = spark.sql(query).toPandas()"
      ],
      "execution_count": 17,
      "outputs": []
    },
    {
      "cell_type": "code",
      "metadata": {
        "colab": {
          "base_uri": "https://localhost:8080/",
          "height": 204
        },
        "id": "b0X-XUNwRz3I",
        "outputId": "81f91e97-09d0-4979-fb6d-4bd15a53b71e"
      },
      "source": [
        "df.head()"
      ],
      "execution_count": 18,
      "outputs": [
        {
          "output_type": "execute_result",
          "data": {
            "text/html": [
              "<div>\n",
              "<style scoped>\n",
              "    .dataframe tbody tr th:only-of-type {\n",
              "        vertical-align: middle;\n",
              "    }\n",
              "\n",
              "    .dataframe tbody tr th {\n",
              "        vertical-align: top;\n",
              "    }\n",
              "\n",
              "    .dataframe thead th {\n",
              "        text-align: right;\n",
              "    }\n",
              "</style>\n",
              "<table border=\"1\" class=\"dataframe\">\n",
              "  <thead>\n",
              "    <tr style=\"text-align: right;\">\n",
              "      <th></th>\n",
              "      <th>department</th>\n",
              "      <th>counter</th>\n",
              "    </tr>\n",
              "  </thead>\n",
              "  <tbody>\n",
              "    <tr>\n",
              "      <th>0</th>\n",
              "      <td>personal care</td>\n",
              "      <td>6563</td>\n",
              "    </tr>\n",
              "    <tr>\n",
              "      <th>1</th>\n",
              "      <td>snacks</td>\n",
              "      <td>6264</td>\n",
              "    </tr>\n",
              "    <tr>\n",
              "      <th>2</th>\n",
              "      <td>pantry</td>\n",
              "      <td>5371</td>\n",
              "    </tr>\n",
              "    <tr>\n",
              "      <th>3</th>\n",
              "      <td>beverages</td>\n",
              "      <td>4365</td>\n",
              "    </tr>\n",
              "    <tr>\n",
              "      <th>4</th>\n",
              "      <td>frozen</td>\n",
              "      <td>4007</td>\n",
              "    </tr>\n",
              "  </tbody>\n",
              "</table>\n",
              "</div>"
            ],
            "text/plain": [
              "      department  counter\n",
              "0  personal care     6563\n",
              "1         snacks     6264\n",
              "2         pantry     5371\n",
              "3      beverages     4365\n",
              "4         frozen     4007"
            ]
          },
          "metadata": {
            "tags": []
          },
          "execution_count": 18
        }
      ]
    },
    {
      "cell_type": "code",
      "metadata": {
        "colab": {
          "base_uri": "https://localhost:8080/",
          "height": 567
        },
        "id": "D7ppLwL3Sjfu",
        "outputId": "605e9ea9-9de6-4578-b40b-59f16bec46c5"
      },
      "source": [
        "plt.figure(figsize=(15, 8))\n",
        "ax = sns.barplot(x='department', y='counter', data=df)\n",
        "for tick in ax.get_xticklabels():\n",
        "    tick.set_rotation(90)\n",
        "plt.show()"
      ],
      "execution_count": 19,
      "outputs": [
        {
          "output_type": "display_data",
          "data": {
            "image/png": "[encoded data removed]",
            "text/plain": [
              "<Figure size 1080x576 with 1 Axes>"
            ]
          },
          "metadata": {
            "tags": []
          }
        }
      ]
    },
    {
      "cell_type": "markdown",
      "metadata": {
        "id": "opEjTS59XDzd"
      },
      "source": [
        "It's looks like first 6 items are most popular amongst products"
      ]
    },
    {
      "cell_type": "markdown",
      "metadata": {
        "id": "rJ1V4VnkVfFs"
      },
      "source": [
        "Let's find out the top 10 popular items across all products"
      ]
    },
    {
      "cell_type": "code",
      "metadata": {
        "colab": {
          "base_uri": "https://localhost:8080/",
          "height": 445
        },
        "id": "AbuuzjaYi_Bg",
        "outputId": "b7246329-bb08-4493-8f4f-d2ccbbbee5a2"
      },
      "source": [
        "query='''\n",
        "select op.product_id, p.product_name, count(1) as product_buy_count\n",
        "from order_products_train op, products p\n",
        "where op.product_id = p.product_id\n",
        "group by 1, 2\n",
        "order by product_buy_count desc\n",
        "limit 10\n",
        ";\n",
        "'''\n",
        "df = spark.sql(query).toPandas()\n",
        "\n",
        "plt.figure(figsize=(15, 5))\n",
        "ax = sns.barplot(x='product_name', y='product_buy_count', data=df)\n",
        "for tick in ax.get_xticklabels():\n",
        "    tick.set_rotation(90)\n",
        "plt.show()"
      ],
      "execution_count": 35,
      "outputs": [
        {
          "output_type": "display_data",
          "data": {
            "image/png": "[encoded data removed]",
            "text/plain": [
              "<Figure size 1080x360 with 1 Axes>"
            ]
          },
          "metadata": {
            "tags": []
          }
        }
      ]
    },
    {
      "cell_type": "markdown",
      "metadata": {
        "id": "9GPgxl1QoYJw"
      },
      "source": [
        "Now, prepare data for FP-growth model"
      ]
    },
    {
      "cell_type": "code",
      "metadata": {
        "colab": {
          "base_uri": "https://localhost:8080/"
        },
        "id": "tZfcI5mtn5Ii",
        "outputId": "d19b8f4e-2f02-4166-b3d4-471dae4e2ec8"
      },
      "source": [
        "order_products_train.show(5)"
      ],
      "execution_count": 37,
      "outputs": [
        {
          "output_type": "stream",
          "text": [
            "+--------+----------+-----------------+---------+\n",
            "|order_id|product_id|add_to_cart_order|reordered|\n",
            "+--------+----------+-----------------+---------+\n",
            "|       1|     49302|                1|        1|\n",
            "|       1|     11109|                2|        1|\n",
            "|       1|     10246|                3|        0|\n",
            "|       1|     49683|                4|        0|\n",
            "|       1|     43633|                5|        1|\n",
            "+--------+----------+-----------------+---------+\n",
            "only showing top 5 rows\n",
            "\n"
          ],
          "name": "stdout"
        }
      ]
    },
    {
      "cell_type": "code",
      "metadata": {
        "colab": {
          "base_uri": "https://localhost:8080/"
        },
        "id": "m0rfUmQEouPh",
        "outputId": "ba3ded7f-d0ca-4a10-def1-a76a0c84a5d9"
      },
      "source": [
        "products.show(5, truncate=False)"
      ],
      "execution_count": 40,
      "outputs": [
        {
          "output_type": "stream",
          "text": [
            "+----------+-----------------------------------------------------------------+--------+-------------+\n",
            "|product_id|product_name                                                     |aisle_id|department_id|\n",
            "+----------+-----------------------------------------------------------------+--------+-------------+\n",
            "|1         |Chocolate Sandwich Cookies                                       |61      |19           |\n",
            "|2         |All-Seasons Salt                                                 |104     |13           |\n",
            "|3         |Robust Golden Unsweetened Oolong Tea                             |94      |7            |\n",
            "|4         |Smart Ones Classic Favorites Mini Rigatoni With Vodka Cream Sauce|38      |1            |\n",
            "|5         |Green Chile Anytime Sauce                                        |5       |13           |\n",
            "+----------+-----------------------------------------------------------------+--------+-------------+\n",
            "only showing top 5 rows\n",
            "\n"
          ],
          "name": "stdout"
        }
      ]
    },
    {
      "cell_type": "code",
      "metadata": {
        "id": "cERLrk5wozRb"
      },
      "source": [
        "query='''\n",
        "select op.order_id, op.product_id, p.product_name\n",
        "from order_products_train op, products p\n",
        "where op.product_id = p.product_id\n",
        ";\n",
        "'''\n",
        "rawData = spark.sql(query)"
      ],
      "execution_count": 51,
      "outputs": []
    },
    {
      "cell_type": "code",
      "metadata": {
        "colab": {
          "base_uri": "https://localhost:8080/",
          "height": 204
        },
        "id": "f8HCkIWVpiQc",
        "outputId": "0038214f-72a1-44ff-bf2b-0abbba45a94f"
      },
      "source": [
        "rawData.head()"
      ],
      "execution_count": 44,
      "outputs": [
        {
          "output_type": "execute_result",
          "data": {
            "text/html": [
              "<div>\n",
              "<style scoped>\n",
              "    .dataframe tbody tr th:only-of-type {\n",
              "        vertical-align: middle;\n",
              "    }\n",
              "\n",
              "    .dataframe tbody tr th {\n",
              "        vertical-align: top;\n",
              "    }\n",
              "\n",
              "    .dataframe thead th {\n",
              "        text-align: right;\n",
              "    }\n",
              "</style>\n",
              "<table border=\"1\" class=\"dataframe\">\n",
              "  <thead>\n",
              "    <tr style=\"text-align: right;\">\n",
              "      <th></th>\n",
              "      <th>order_id</th>\n",
              "      <th>product_id</th>\n",
              "      <th>product_name</th>\n",
              "    </tr>\n",
              "  </thead>\n",
              "  <tbody>\n",
              "    <tr>\n",
              "      <th>0</th>\n",
              "      <td>1</td>\n",
              "      <td>49302</td>\n",
              "      <td>Bulgarian Yogurt</td>\n",
              "    </tr>\n",
              "    <tr>\n",
              "      <th>1</th>\n",
              "      <td>1</td>\n",
              "      <td>11109</td>\n",
              "      <td>Organic 4% Milk Fat Whole Milk Cottage Cheese</td>\n",
              "    </tr>\n",
              "    <tr>\n",
              "      <th>2</th>\n",
              "      <td>1</td>\n",
              "      <td>10246</td>\n",
              "      <td>Organic Celery Hearts</td>\n",
              "    </tr>\n",
              "    <tr>\n",
              "      <th>3</th>\n",
              "      <td>1</td>\n",
              "      <td>49683</td>\n",
              "      <td>Cucumber Kirby</td>\n",
              "    </tr>\n",
              "    <tr>\n",
              "      <th>4</th>\n",
              "      <td>1</td>\n",
              "      <td>43633</td>\n",
              "      <td>Lightly Smoked Sardines in Olive Oil</td>\n",
              "    </tr>\n",
              "  </tbody>\n",
              "</table>\n",
              "</div>"
            ],
            "text/plain": [
              "   order_id  product_id                                   product_name\n",
              "0         1       49302                               Bulgarian Yogurt\n",
              "1         1       11109  Organic 4% Milk Fat Whole Milk Cottage Cheese\n",
              "2         1       10246                          Organic Celery Hearts\n",
              "3         1       49683                                 Cucumber Kirby\n",
              "4         1       43633           Lightly Smoked Sardines in Olive Oil"
            ]
          },
          "metadata": {
            "tags": []
          },
          "execution_count": 44
        }
      ]
    },
    {
      "cell_type": "code",
      "metadata": {
        "colab": {
          "base_uri": "https://localhost:8080/"
        },
        "id": "2xxfvTlNp9ye",
        "outputId": "debf0bea-bc80-4c61-97c0-f24f3efe6b8b"
      },
      "source": [
        "from pyspark.sql.functions import *\n",
        "baskets = rawData.groupBy('order_id').agg(collect_set('product_name').alias('items'))\n",
        "baskets.createOrReplaceTempView('baskets')\n",
        "baskets.show(truncate=False)"
      ],
      "execution_count": 68,
      "outputs": [
        {
          "output_type": "stream",
          "text": [
            "+--------+------------------------------------------------------------------------------------------------------------------------------------------------------------------------------------------------------------------------------------------------------------------------------------------------------------------------------------------------------------------------------------------------------------------------------------------------------------------------------------------------------------------------------------------------------------------------------------------------------------------------------------------------------------------------------------------------------------------------------------------------------------------------------------------------------------------------------------------------------------------------------------------+\n",
            "|order_id|items                                                                                                                                                                                                                                                                                                                                                                                                                                                                                                                                                                                                                                                                                                                                                                                                                                                                                     |\n",
            "+--------+------------------------------------------------------------------------------------------------------------------------------------------------------------------------------------------------------------------------------------------------------------------------------------------------------------------------------------------------------------------------------------------------------------------------------------------------------------------------------------------------------------------------------------------------------------------------------------------------------------------------------------------------------------------------------------------------------------------------------------------------------------------------------------------------------------------------------------------------------------------------------------------+\n",
            "|1342    |[Raw Shrimp, Seedless Cucumbers, Versatile Stain Remover, Organic Strawberries, Organic Mandarins, Chicken Apple Sausage, Pink Lady Apples, Bag of Organic Bananas]                                                                                                                                                                                                                                                                                                                                                                                                                                                                                                                                                                                                                                                                                                                       |\n",
            "|1591    |[Cracked Wheat, Strawberry Rhubarb Yoghurt, Organic Bunny Fruit Snacks Berry Patch, Goodness Grapeness Organic Juice Drink, Honey Graham Snacks, Spinach, Granny Smith Apples, Oven Roasted Turkey Breast, Pure Vanilla Extract, Chewy 25% Low Sugar Chocolate Chip Granola, Banana, Original Turkey Burgers Smoke Flavor Added, Twisted Tropical Tango Organic Juice Drink, Navel Oranges, Lower Sugar Instant Oatmeal  Variety, Ultra Thin Sliced Provolone Cheese, Natural Vanilla Ice Cream, Cinnamon Multigrain Cereal, Garlic, Goldfish Pretzel Baked Snack Crackers, Original Whole Grain Chips, Medium Scarlet Raspberries, Lemon Yogurt, Original Patties (100965) 12 Oz Breakfast, Nutty Bars, Strawberry Banana Smoothie, Green Machine Juice Smoothie, Coconut Dreams Cookies, Buttermilk Waffles, Uncured Genoa Salami, Organic Greek Whole Milk Blended Vanilla Bean Yogurt]|\n",
            "|4519    |[Beet Apple Carrot Lemon Ginger Organic Cold Pressed Juice Beverage]                                                                                                                                                                                                                                                                                                                                                                                                                                                                                                                                                                                                                                                                                                                                                                                                                      |\n",
            "|4935    |[Vodka]                                                                                                                                                                                                                                                                                                                                                                                                                                                                                                                                                                                                                                                                                                                                                                                                                                                                                   |\n",
            "|6357    |[Globe Eggplant, Panko Bread Crumbs, Fresh Mozzarella Ball, Grated Parmesan, Gala Apples, Italian Pasta Sauce Basilico Tomato, Basil & Garlic, Organic Basil, Banana, Provolone]                                                                                                                                                                                                                                                                                                                                                                                                                                                                                                                                                                                                                                                                                                          |\n",
            "|10362   |[Organic Baby Spinach, Organic Spring Mix, Organic Leek, Slow Roasted Lightly Seasoned Chick'n, Organic Basil, Organic Shredded Mild Cheddar, Bag of Organic Bananas, Sliced Baby Bella Mushrooms, Organic Tapioca Flour, Organic Gala Apples, Lemons, Limes, Pitted Dates, Jalapeno Peppers, Original Tofurky Deli Slices, Organic Red Bell Pepper, Organic Shredded Carrots, Roma Tomato, Crinkle Cut French Fries, Large Greenhouse Tomato, Organic Pinto Beans, Organic Three Grain Tempeh, Organic Garnet Sweet Potato (Yam), Organic Coconut Milk, Organic Extra Firm Tofu, Ground Sausage Style Veggie Protein, Extra Virgin Olive Oil, Hass Avocados, Multigrain Tortilla Chips, The Ultimate Beefless Burger, Yellow Bell Pepper, Coconut Flour, Light Brown Sugar, Organic Harissa Seasoning, Crushed Garlic, Organic Whole Cashews]                                            |\n",
            "|19204   |[Reduced Fat Crackers, Dishwasher Cleaner, Peanut Powder, Disinfecting Wipes Lemon & Fresh Scent, Lemon Lime Thirst Quencher, Fat Free & Lower Sodium Chicken Broth, American Blend Salad, Cinnamon Cereal, Extra Nasal Strips, Reduced Fat Creamy Peanut Butter Spread, Mozzarella String Cheese Sticks, Light Low-Moisture Part Skim, Electrolyte Enhanced Water, Original Petroleum Jelly, High Efficiency Complete Dual Formula]                                                                                                                                                                                                                                                                                                                                                                                                                                                      |\n",
            "|29601   |[Organic Red Onion, Small Batch Authentic Taqueria Tortilla Chips, Hummus, Hope, Original Recipe, Unsweetened Whole Milk Peach Greek Yogurt, Toasted Coconut Almondmilk Blend, Skillet Refried Red Beans Sautéed With Onion & Tomatillo, Almondmilk, Pure, Chocolate Protein, Organic Greek Lowfat Yogurt With Strawberries, Bag of Organic Bananas, California Orange Juice, Mini Whole Wheat Pita Bread, Coconut Almond Creamer Blend, Banana Chia Pod, Tomatillo Salsa, SALSA        FRNTR CHPTL SALSA, Guacamole, Water]                                                                                                                                                                                                                                                                                                                                                              |\n",
            "|31035   |[Organic Cripps Pink Apples, Organic Golden Delicious Apple, Organic Navel Orange, Bag of Organic Bananas]                                                                                                                                                                                                                                                                                                                                                                                                                                                                                                                                                                                                                                                                                                                                                                                |\n",
            "|40011   |[Organic Baby Spinach, Organic Blues Bread with Blue Cornmeal Crust, Sea Salt Macadamias, Natural Calm Magnesium Supplement Raspberry Lemon Flavor Powder, Chocolate Coconut Protein Bar, Sport Chocolate Mint Protein Bar]                                                                                                                                                                                                                                                                                                                                                                                                                                                                                                                                                                                                                                                               |\n",
            "|46266   |[Uncured Beef Hot Dog, Organic Baby Spinach, Smoked Salmon, Strawberry Preserves, Organic Sugar Snap Peas, Organic Large Grade AA Omega-3 Eggs, Organic Blueberry Waffles, Organic Low Fat Cottage Cheese, Seedless Red Grapes, Organic Strawberries, 2-Ply Right Size 100% Recycled Paper Towels, Organic Uncured Sliced Black Forest Ham, Bag of Organic Bananas]                                                                                                                                                                                                                                                                                                                                                                                                                                                                                                                       |\n",
            "|51607   |[Donut House Chocolate Glazed Donut Coffee K Cup, Major Dickason's Blend Dark Roast K-Cups, Classic K-Cup Pods Hot Cocoa, Pike Place Roast Medium Keurig Brewed K-Cups, Keurig Daybreak Morning Blend Coffee K Cups, Caramel Vanilla Cream Light Roast K-Cup Packs Arabica Coffee]                                                                                                                                                                                                                                                                                                                                                                                                                                                                                                                                                                                                        |\n",
            "|58797   |[Concentrated Butcher's Bone Broth, Chicken, Seedless Cucumbers, Mini Seedless Watermelon Pack, Fully Husked & Trimmed Super Sweet Corn, Key Limes, Organic Broccoli, Organic Southwest Salad, Bag of Organic Bananas]                                                                                                                                                                                                                                                                                                                                                                                                                                                                                                                                                                                                                                                                    |\n",
            "|61793   |[Raspberries, Green Seedless Grapes, Clementines, Natural Spring Water, Mixed Fruit Fruit Snacks, Original Rice Krispies Treats]                                                                                                                                                                                                                                                                                                                                                                                                                                                                                                                                                                                                                                                                                                                                                          |\n",
            "|67089   |[Original Tofurky Deli Slices, Sharp Cheddar Cheese, Organic Baby Spinach, Feta Cheese Crumbles, Almond Breeze Original Almond Milk, Strawberry Preserves, Organic Tomato Cluster, Cheese Tamale Verde, Honey Yoghurt, Banana, Mandarin Orange Crispy Chick'n, Organic Whole Mushrooms, Organic Avocado, Unfrosted Strawberry Toaster Pastries, Seedless Red Grapes, Whole Wheat Bread, Emmentaler Swiss Slices]                                                                                                                                                                                                                                                                                                                                                                                                                                                                          |\n",
            "|70863   |[Extra Hold Non-Aerosol Hair Spray, Bathroom Tissue, Double Rolls, 3-Ply, Organic Half & Half, Pane Turano Italian Bread, Presliced Everything Bagels]                                                                                                                                                                                                                                                                                                                                                                                                                                                                                                                                                                                                                                                                                                                                    |\n",
            "|88674   |[Organic Coconut Milk, Everything Bagels, Rosemary, Edamame In Pod, Unsweetened Almond Milk]                                                                                                                                                                                                                                                                                                                                                                                                                                                                                                                                                                                                                                                                                                                                                                                              |\n",
            "|91937   |[No. 485 Gin, Monterey Jack Sliced Cheese, Traditional New England Clam Chowder Soup, Apple Juice, Sourdough Hard Pretzels Fat Free]                                                                                                                                                                                                                                                                                                                                                                                                                                                                                                                                                                                                                                                                                                                                                      |\n",
            "|92317   |[Red Vine Tomato, Harvest Casserole Bowls, Organic Bosc Pear, Banana, Brown Rice & Vegetables Bowl, Gluten and Dairy Free Rice Macaroni and Cheeze, Organic Extra Large Brown Omega 3 Eggs, Sugar Snap Peas, Carrots, Soft Baked Chocolate Chip Cookies Gluten Free, Original Classic Organic Rice Drink, Gluten Free Peanut Butter Dark Chocolate Chewy With a Crunch Granola Bars, Indian Mattar Tofu, Olive Hummus]                                                                                                                                                                                                                                                                                                                                                                                                                                                                    |\n",
            "|99621   |[Organic Baby Arugula, Organic Garlic, Fennel, Lemon Sorbet, Okra, Organic Extra Firm Tofu, Organic Basil, Fresh Basil]                                                                                                                                                                                                                                                                                                                                                                                                                                                                                                                                                                                                                                                                                                                                                                   |\n",
            "+--------+------------------------------------------------------------------------------------------------------------------------------------------------------------------------------------------------------------------------------------------------------------------------------------------------------------------------------------------------------------------------------------------------------------------------------------------------------------------------------------------------------------------------------------------------------------------------------------------------------------------------------------------------------------------------------------------------------------------------------------------------------------------------------------------------------------------------------------------------------------------------------------------+\n",
            "only showing top 20 rows\n",
            "\n"
          ],
          "name": "stdout"
        }
      ]
    },
    {
      "cell_type": "markdown",
      "metadata": {
        "id": "CZchbZpFr5_R"
      },
      "source": [
        "# Train FP-growth ML model (Frequent Pattern Mining Algorith)"
      ]
    },
    {
      "cell_type": "code",
      "metadata": {
        "id": "VEbhMrwCt_qN"
      },
      "source": [
        "query='''\n",
        "select items from baskets\n",
        ";\n",
        "'''\n",
        "baskets_ds = spark.sql(query).toDF('items')"
      ],
      "execution_count": 84,
      "outputs": []
    },
    {
      "cell_type": "code",
      "metadata": {
        "colab": {
          "base_uri": "https://localhost:8080/"
        },
        "id": "_VcbnowMxsMh",
        "outputId": "16b9ab24-9a66-426d-9022-190bb818c0c9"
      },
      "source": [
        "baskets_ds.show(5, truncate=False)"
      ],
      "execution_count": 85,
      "outputs": [
        {
          "output_type": "stream",
          "text": [
            "+------------------------------------------------------------------------------------------------------------------------------------------------------------------------------------------------------------------------------------------------------------------------------------------------------------------------------------------------------------------------------------------------------------------------------------------------------------------------------------------------------------------------------------------------------------------------------------------------------------------------------------------------------------------------------------------------------------------------------------------------------------------------------------------------------------------------------------------------------------------------------------------+\n",
            "|items                                                                                                                                                                                                                                                                                                                                                                                                                                                                                                                                                                                                                                                                                                                                                                                                                                                                                     |\n",
            "+------------------------------------------------------------------------------------------------------------------------------------------------------------------------------------------------------------------------------------------------------------------------------------------------------------------------------------------------------------------------------------------------------------------------------------------------------------------------------------------------------------------------------------------------------------------------------------------------------------------------------------------------------------------------------------------------------------------------------------------------------------------------------------------------------------------------------------------------------------------------------------------+\n",
            "|[Raw Shrimp, Seedless Cucumbers, Versatile Stain Remover, Organic Strawberries, Organic Mandarins, Chicken Apple Sausage, Pink Lady Apples, Bag of Organic Bananas]                                                                                                                                                                                                                                                                                                                                                                                                                                                                                                                                                                                                                                                                                                                       |\n",
            "|[Cracked Wheat, Strawberry Rhubarb Yoghurt, Organic Bunny Fruit Snacks Berry Patch, Goodness Grapeness Organic Juice Drink, Honey Graham Snacks, Spinach, Granny Smith Apples, Oven Roasted Turkey Breast, Pure Vanilla Extract, Chewy 25% Low Sugar Chocolate Chip Granola, Banana, Original Turkey Burgers Smoke Flavor Added, Twisted Tropical Tango Organic Juice Drink, Navel Oranges, Lower Sugar Instant Oatmeal  Variety, Ultra Thin Sliced Provolone Cheese, Natural Vanilla Ice Cream, Cinnamon Multigrain Cereal, Garlic, Goldfish Pretzel Baked Snack Crackers, Original Whole Grain Chips, Medium Scarlet Raspberries, Lemon Yogurt, Original Patties (100965) 12 Oz Breakfast, Nutty Bars, Strawberry Banana Smoothie, Green Machine Juice Smoothie, Coconut Dreams Cookies, Buttermilk Waffles, Uncured Genoa Salami, Organic Greek Whole Milk Blended Vanilla Bean Yogurt]|\n",
            "|[Beet Apple Carrot Lemon Ginger Organic Cold Pressed Juice Beverage]                                                                                                                                                                                                                                                                                                                                                                                                                                                                                                                                                                                                                                                                                                                                                                                                                      |\n",
            "|[Vodka]                                                                                                                                                                                                                                                                                                                                                                                                                                                                                                                                                                                                                                                                                                                                                                                                                                                                                   |\n",
            "|[Globe Eggplant, Panko Bread Crumbs, Fresh Mozzarella Ball, Grated Parmesan, Gala Apples, Italian Pasta Sauce Basilico Tomato, Basil & Garlic, Organic Basil, Banana, Provolone]                                                                                                                                                                                                                                                                                                                                                                                                                                                                                                                                                                                                                                                                                                          |\n",
            "+------------------------------------------------------------------------------------------------------------------------------------------------------------------------------------------------------------------------------------------------------------------------------------------------------------------------------------------------------------------------------------------------------------------------------------------------------------------------------------------------------------------------------------------------------------------------------------------------------------------------------------------------------------------------------------------------------------------------------------------------------------------------------------------------------------------------------------------------------------------------------------------+\n",
            "only showing top 5 rows\n",
            "\n"
          ],
          "name": "stdout"
        }
      ]
    },
    {
      "cell_type": "code",
      "metadata": {
        "id": "p9pWwXwyrNZ_"
      },
      "source": [
        "from pyspark.ml.fpm import FPGrowth\n",
        "fpGrowth = FPGrowth(itemsCol=\"items\", minSupport=0.01, minConfidence=0.0)\n",
        "model = fpGrowth.fit(baskets_ds)"
      ],
      "execution_count": 100,
      "outputs": []
    },
    {
      "cell_type": "markdown",
      "metadata": {
        "id": "HF3WcxVWwxS9"
      },
      "source": [
        "Let's get most frequent itemsets"
      ]
    },
    {
      "cell_type": "code",
      "metadata": {
        "id": "Zl05Ln-WxCIb"
      },
      "source": [
        "freqItemSets_df = model.freqItemsets.toPandas()"
      ],
      "execution_count": 118,
      "outputs": []
    },
    {
      "cell_type": "code",
      "metadata": {
        "colab": {
          "base_uri": "https://localhost:8080/"
        },
        "id": "xq6X4gaCxXID",
        "outputId": "28bd40f1-bcd3-4a63-8dae-8bfe12be8f0e"
      },
      "source": [
        "model.associationRules.sort(desc('confidence')).show(truncate=False)"
      ],
      "execution_count": 112,
      "outputs": [
        {
          "output_type": "stream",
          "text": [
            "+------------------------+------------------------+-------------------+------------------+--------------------+\n",
            "|antecedent              |consequent              |confidence         |lift              |support             |\n",
            "+------------------------+------------------------+-------------------+------------------+--------------------+\n",
            "|[Organic Hass Avocado]  |[Bag of Organic Bananas]|0.33182503770739064|2.8125601661853374|0.018443856747631642|\n",
            "|[Organic Raspberries]   |[Bag of Organic Bananas]|0.32095203750450774|2.720400251222801 |0.013566142566439803|\n",
            "|[Organic Raspberries]   |[Organic Strawberries]  |0.3011179228272629 |3.6267102566772844|0.012727785441547455|\n",
            "|[Strawberries]          |[Banana]                |0.29996920234062213|2.101818811807684 |0.01484654253900266 |\n",
            "|[Organic Avocado]       |[Banana]                |0.2990956944256985 |2.0956983322600378|0.016889085352376744|\n",
            "|[Organic Strawberries]  |[Bag of Organic Bananas]|0.28217367358178813|2.3917135359814496|0.023428270926537053|\n",
            "|[Large Lemon]           |[Banana]                |0.26527350952673634|1.8587136554252668|0.016447042504706234|\n",
            "|[Limes]                 |[Large Lemon]           |0.264379247472236  |4.26415939540069  |0.012156178310939037|\n",
            "|[Organic Baby Spinach]  |[Bag of Organic Bananas]|0.2285363859362224 |1.937082084128282 |0.017041513920538987|\n",
            "|[Limes]                 |[Banana]                |0.22061992375269351|1.545835713749181 |0.010144121211197402|\n",
            "|[Organic Hass Avocado]  |[Organic Strawberries]  |0.21102426984779926|2.541608538870928 |0.01172937832008475 |\n",
            "|[Organic Baby Spinach]  |[Banana]                |0.2044153720359771 |1.4322939522305091|0.015242856816224497|\n",
            "|[Organic Strawberries]  |[Banana]                |0.19955939049017807|1.3982691480735754|0.016568985359236028|\n",
            "|[Bag of Organic Bananas]|[Organic Strawberries]  |0.19857881136950906|2.3917135359814496|0.023428270926537053|\n",
            "|[Large Lemon]           |[Limes]                 |0.19606637984019668|4.264159395400691 |0.012156178310939037|\n",
            "|[Organic Avocado]       |[Organic Baby Spinach]  |0.18922931569712512|2.5376726577375397|0.010685242628173372|\n",
            "|[Organic Avocado]       |[Large Lemon]           |0.18207585369145635|2.936692155747055 |0.010281306922543422|\n",
            "|[Organic Baby Spinach]  |[Organic Strawberries]  |0.16751839738348323|2.0176171656223105|0.012491521160895976|\n",
            "|[Large Lemon]           |[Organic Avocado]       |0.16582667486170866|2.936692155747055 |0.010281306922543422|\n",
            "|[Bag of Organic Bananas]|[Organic Hass Avocado]  |0.15633074935400518|2.8125601661853374|0.018443856747631642|\n",
            "+------------------------+------------------------+-------------------+------------------+--------------------+\n",
            "only showing top 20 rows\n",
            "\n"
          ],
          "name": "stdout"
        }
      ]
    },
    {
      "cell_type": "code",
      "metadata": {
        "id": "M3XQdzIi1yqS"
      },
      "source": [
        ""
      ],
      "execution_count": null,
      "outputs": []
    }
  ]
}